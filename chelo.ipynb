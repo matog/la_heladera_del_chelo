{
  "nbformat": 4,
  "nbformat_minor": 0,
  "metadata": {
    "colab": {
      "name": "chelo.ipynb",
      "provenance": [],
      "collapsed_sections": [],
      "authorship_tag": "ABX9TyM4l11JS1Be5V5enWw9QS3e",
      "include_colab_link": true
    },
    "kernelspec": {
      "name": "python3",
      "display_name": "Python 3"
    },
    "language_info": {
      "name": "python"
    }
  },
  "cells": [
    {
      "cell_type": "markdown",
      "metadata": {
        "id": "view-in-github",
        "colab_type": "text"
      },
      "source": [
        "<a href=\"https://colab.research.google.com/github/matog/la_heladera_del_chelo/blob/main/chelo.ipynb\" target=\"_parent\"><img src=\"https://colab.research.google.com/assets/colab-badge.svg\" alt=\"Open In Colab\"/></a>"
      ]
    },
    {
      "cell_type": "code",
      "metadata": {
        "id": "IOSjqxFwU1L-"
      },
      "source": [
        "import numpy as np\n",
        "import cv2\n",
        "from PIL import Image"
      ],
      "execution_count": 20,
      "outputs": []
    },
    {
      "cell_type": "code",
      "metadata": {
        "colab": {
          "base_uri": "https://localhost:8080/"
        },
        "id": "7cJDm3ZlBVyw",
        "outputId": "5fb4699a-ad23-4f0c-e798-5f33cadae83b"
      },
      "source": [
        "# from google.colab.patches import cv2_imshow\n",
        "# read input\n",
        "img = cv2.imread(\"chelo.jpg\")\n",
        "\n",
        "# specify desired output size \n",
        "width = 350\n",
        "height = 350\n",
        "\n",
        "# specify conjugate x,y coordinates (not y,x)\n",
        "input = np.float32([[62,71], [418,59], [442,443], [29,438]])\n",
        "output = np.float32([[0,0], [90,0], [90,295], [0,286]])\n",
        "\n",
        "# compute perspective matrix\n",
        "matrix = cv2.getPerspectiveTransform(input,output)\n",
        "\n",
        "print(matrix.shape)\n",
        "print(matrix)\n",
        "\n",
        "# do perspective transformation setting area outside input to black\n",
        "imgOutput = cv2.warpPerspective(img, matrix, (width,height), cv2.INTER_LINEAR, borderMode=cv2.BORDER_CONSTANT, borderValue=(0,0,0))\n",
        "print(imgOutput.shape)\n",
        "\n",
        "# save the warped output\n",
        "cv2.imwrite(\"poster_heladera.jpg\", imgOutput)\n",
        "\n",
        "# show the result\n",
        "# cv2.imshow(\"result\", imgOutput)\n",
        "cv2.waitKey(0)\n",
        "cv2.destroyAllWindows()"
      ],
      "execution_count": 2,
      "outputs": [
        {
          "output_type": "stream",
          "name": "stdout",
          "text": [
            "(3, 3)\n",
            "[[ 2.65719260e-01  2.38930124e-02 -1.81709980e+01]\n",
            " [ 3.15435920e-02  9.35793230e-01 -6.83970220e+01]\n",
            " [ 5.14859029e-05  4.46787311e-04  1.00000000e+00]]\n",
            "(350, 350, 3)\n"
          ]
        }
      ]
    },
    {
      "cell_type": "code",
      "metadata": {
        "id": "Ed5BPIKpWurJ"
      },
      "source": [
        "im1 = Image.open('/content/heladera.jpg')\n",
        "im2 = Image.open('/content/chelo_rz.jpg')\n",
        "# print(im1.mode)\n",
        "# print(im2.mode)\n",
        "# print(im1.size)\n",
        "# print(im2.size)\n",
        "new_image = Image.blend(im1,im2,0.5)\n",
        "new_image.save('chelito.jpg')\n"
      ],
      "execution_count": 29,
      "outputs": []
    },
    {
      "cell_type": "code",
      "metadata": {
        "id": "13-zVnaqe4ty"
      },
      "source": [
        ""
      ],
      "execution_count": null,
      "outputs": []
    }
  ]
}