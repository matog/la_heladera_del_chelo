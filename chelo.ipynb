{
  "nbformat": 4,
  "nbformat_minor": 0,
  "metadata": {
    "colab": {
      "name": "chelo.ipynb",
      "provenance": [],
      "collapsed_sections": [],
      "authorship_tag": "ABX9TyOo7Apq1DS6U3ofpDPqHhBY",
      "include_colab_link": true
    },
    "kernelspec": {
      "name": "python3",
      "display_name": "Python 3"
    },
    "language_info": {
      "name": "python"
    }
  },
  "cells": [
    {
      "cell_type": "markdown",
      "metadata": {
        "id": "view-in-github",
        "colab_type": "text"
      },
      "source": [
        "<a href=\"https://colab.research.google.com/github/matog/la_heladera_del_chelo/blob/main/chelo.ipynb\" target=\"_parent\"><img src=\"https://colab.research.google.com/assets/colab-badge.svg\" alt=\"Open In Colab\"/></a>"
      ]
    },
    {
      "cell_type": "code",
      "metadata": {
        "id": "IOSjqxFwU1L-"
      },
      "source": [
        "import numpy as np\n",
        "import cv2\n",
        "from PIL import Image"
      ],
      "execution_count": 20,
      "outputs": []
    },
    {
      "cell_type": "code",
      "metadata": {
        "colab": {
          "base_uri": "https://localhost:8080/"
        },
        "id": "7cJDm3ZlBVyw",
        "outputId": "5fb4699a-ad23-4f0c-e798-5f33cadae83b"
      },
      "source": [
        "# from google.colab.patches import cv2_imshow\n",
        "# read input\n",
        "img = cv2.imread(\"chelo.jpg\")\n",
        "\n",
        "# specify desired output size \n",
        "width = 350\n",
        "height = 350\n",
        "\n",
        "# specify conjugate x,y coordinates (not y,x)\n",
        "input = np.float32([[62,71], [418,59], [442,443], [29,438]])\n",
        "output = np.float32([[0,0], [90,0], [90,295], [0,286]])\n",
        "\n",
        "# compute perspective matrix\n",
        "matrix = cv2.getPerspectiveTransform(input,output)\n",
        "\n",
        "print(matrix.shape)\n",
        "print(matrix)\n",
        "\n",
        "# do perspective transformation setting area outside input to black\n",
        "imgOutput = cv2.warpPerspective(img, matrix, (width,height), cv2.INTER_LINEAR, borderMode=cv2.BORDER_CONSTANT, borderValue=(0,0,0))\n",
        "print(imgOutput.shape)\n",
        "\n",
        "# save the warped output\n",
        "cv2.imwrite(\"poster_heladera.jpg\", imgOutput)\n",
        "\n",
        "# show the result\n",
        "# cv2.imshow(\"result\", imgOutput)\n",
        "cv2.waitKey(0)\n",
        "cv2.destroyAllWindows()"
      ],
      "execution_count": 2,
      "outputs": [
        {
          "output_type": "stream",
          "name": "stdout",
          "text": [
            "(3, 3)\n",
            "[[ 2.65719260e-01  2.38930124e-02 -1.81709980e+01]\n",
            " [ 3.15435920e-02  9.35793230e-01 -6.83970220e+01]\n",
            " [ 5.14859029e-05  4.46787311e-04  1.00000000e+00]]\n",
            "(350, 350, 3)\n"
          ]
        }
      ]
    },
    {
      "cell_type": "code",
      "metadata": {
        "id": "Ed5BPIKpWurJ"
      },
      "source": [
        "im1 = Image.open('/content/heladera.jpg')\n",
        "im2 = Image.open('/content/chelo_rz.jpg')\n",
        "# print(im1.mode)\n",
        "# print(im2.mode)\n",
        "# print(im1.size)\n",
        "# print(im2.size)\n",
        "new_image = Image.blend(im1,im2,0.5)\n",
        "new_image.save('chelito.jpg')\n"
      ],
      "execution_count": 29,
      "outputs": []
    },
    {
      "cell_type": "markdown",
      "metadata": {
        "id": "bfquXv4otvNv"
      },
      "source": [
        "Mirar: \n",
        "- https://stackoverflow.com/questions/51365126/combine-2-images-with-mask"
      ]
    },
    {
      "cell_type": "code",
      "metadata": {
        "colab": {
          "base_uri": "https://localhost:8080/",
          "height": 374
        },
        "id": "yGNDZ9Ottrmg",
        "outputId": "bbe4065d-e274-4284-de45-0a309e8414cb"
      },
      "source": [
        "from PIL import Image\n",
        "  \n",
        "im2 = Image.open('/content/heladera.rgba')\n",
        "im1 = Image.open('/content/chelo.rgba')  \n",
        "# Pasting img2 image on top of img1 \n",
        "# starting at coordinates (0, 0)\n",
        "im1.paste(im2, (0,0), mask = im2)\n",
        "  \n",
        "# Displaying the image\n",
        "im1.show()"
      ],
      "execution_count": 33,
      "outputs": [
        {
          "output_type": "error",
          "ename": "UnidentifiedImageError",
          "evalue": "ignored",
          "traceback": [
            "\u001b[0;31m---------------------------------------------------------------------------\u001b[0m",
            "\u001b[0;31mUnidentifiedImageError\u001b[0m                    Traceback (most recent call last)",
            "\u001b[0;32m<ipython-input-33-7ed59f34dd6f>\u001b[0m in \u001b[0;36m<module>\u001b[0;34m()\u001b[0m\n\u001b[1;32m      1\u001b[0m \u001b[0;32mfrom\u001b[0m \u001b[0mPIL\u001b[0m \u001b[0;32mimport\u001b[0m \u001b[0mImage\u001b[0m\u001b[0;34m\u001b[0m\u001b[0;34m\u001b[0m\u001b[0m\n\u001b[1;32m      2\u001b[0m \u001b[0;34m\u001b[0m\u001b[0m\n\u001b[0;32m----> 3\u001b[0;31m \u001b[0mim2\u001b[0m \u001b[0;34m=\u001b[0m \u001b[0mImage\u001b[0m\u001b[0;34m.\u001b[0m\u001b[0mopen\u001b[0m\u001b[0;34m(\u001b[0m\u001b[0;34m'/content/heladera.rgba'\u001b[0m\u001b[0;34m)\u001b[0m\u001b[0;34m\u001b[0m\u001b[0;34m\u001b[0m\u001b[0m\n\u001b[0m\u001b[1;32m      4\u001b[0m \u001b[0mim1\u001b[0m \u001b[0;34m=\u001b[0m \u001b[0mImage\u001b[0m\u001b[0;34m.\u001b[0m\u001b[0mopen\u001b[0m\u001b[0;34m(\u001b[0m\u001b[0;34m'/content/chelo.rgba'\u001b[0m\u001b[0;34m)\u001b[0m\u001b[0;34m\u001b[0m\u001b[0;34m\u001b[0m\u001b[0m\n\u001b[1;32m      5\u001b[0m \u001b[0;31m# Pasting img2 image on top of img1\u001b[0m\u001b[0;34m\u001b[0m\u001b[0;34m\u001b[0m\u001b[0;34m\u001b[0m\u001b[0m\n",
            "\u001b[0;32m/usr/local/lib/python3.7/dist-packages/PIL/Image.py\u001b[0m in \u001b[0;36mopen\u001b[0;34m(fp, mode)\u001b[0m\n\u001b[1;32m   2894\u001b[0m         \u001b[0mwarnings\u001b[0m\u001b[0;34m.\u001b[0m\u001b[0mwarn\u001b[0m\u001b[0;34m(\u001b[0m\u001b[0mmessage\u001b[0m\u001b[0;34m)\u001b[0m\u001b[0;34m\u001b[0m\u001b[0;34m\u001b[0m\u001b[0m\n\u001b[1;32m   2895\u001b[0m     raise UnidentifiedImageError(\n\u001b[0;32m-> 2896\u001b[0;31m         \u001b[0;34m\"cannot identify image file %r\"\u001b[0m \u001b[0;34m%\u001b[0m \u001b[0;34m(\u001b[0m\u001b[0mfilename\u001b[0m \u001b[0;32mif\u001b[0m \u001b[0mfilename\u001b[0m \u001b[0;32melse\u001b[0m \u001b[0mfp\u001b[0m\u001b[0;34m)\u001b[0m\u001b[0;34m\u001b[0m\u001b[0;34m\u001b[0m\u001b[0m\n\u001b[0m\u001b[1;32m   2897\u001b[0m     )\n\u001b[1;32m   2898\u001b[0m \u001b[0;34m\u001b[0m\u001b[0m\n",
            "\u001b[0;31mUnidentifiedImageError\u001b[0m: cannot identify image file '/content/heladera.rgba'"
          ]
        }
      ]
    },
    {
      "cell_type": "code",
      "metadata": {
        "id": "QcPFMazQv3HJ"
      },
      "source": [
        ""
      ],
      "execution_count": null,
      "outputs": []
    },
    {
      "cell_type": "code",
      "metadata": {
        "id": "13-zVnaqe4ty"
      },
      "source": [
        ""
      ],
      "execution_count": null,
      "outputs": []
    }
  ]
}